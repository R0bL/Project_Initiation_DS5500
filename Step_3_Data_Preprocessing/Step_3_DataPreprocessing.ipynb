{
 "cells": [
  {
   "cell_type": "code",
   "execution_count": null,
   "id": "4c291c80-bc86-4d50-bb47-8c9e3db7e2dc",
   "metadata": {},
   "outputs": [],
   "source": [
    "from reportlab.pdfgen import canvas\n",
    "from reportlab.lib.pagesizes import letter\n",
    "import PyPDF2\n",
    "import os\n",
    "import pickle\n",
    "import pandas as pd\n",
    "import spacy\n",
    "import re\n",
    "from collections import defaultdict\n",
    "from time import time\n",
    "import numpy as np\n",
    "from sklearn import metrics\n",
    "from time import time\n",
    "import numpy as np\n",
    "from sklearn import metrics\n",
    "from reportlab.lib.pagesizes import letter\n",
    "from reportlab.pdfgen import canvas\n",
    "from reportlab.lib import colors"
   ]
  },
  {
   "cell_type": "markdown",
   "id": "f8d8310c-378c-4ffa-89d1-3eff448a2095",
   "metadata": {},
   "source": [
    "# Step 3: Data Processing to PDF\n",
    "\n",
    "In this example, I wanted to narrow the focus to look at 10-K disclosures from 2023 - Utility Sector"
   ]
  },
  {
   "cell_type": "code",
   "execution_count": null,
   "id": "7a7ba75d-8470-403a-b76c-114b04ea2d9f",
   "metadata": {},
   "outputs": [],
   "source": [
    "# Load the serialized data from the pickle file\n",
    "with open('Cleaned_US_Item1_1A.pkl', 'rb') as f:\n",
    "    documents_info = pickle.load(f)\n",
    "\n",
    "# Create a DataFrame from the documents_info list\n",
    "Cleaned_US_Item1_1A = pd.DataFrame(documents_info)\n"
   ]
  },
  {
   "cell_type": "code",
   "execution_count": null,
   "id": "2a0e56f1-c466-4588-b2af-3ca770d02d74",
   "metadata": {},
   "outputs": [],
   "source": [
    "def preprocess_text(text):\n",
    "    return ' '.join(text.split())"
   ]
  },
  {
   "cell_type": "code",
   "execution_count": null,
   "id": "dc41c167-5b45-4b7b-9b79-e305c2bc4779",
   "metadata": {},
   "outputs": [],
   "source": [
    "unique_utility_df = df_2023[df_2023['sector'] == 'Utilities']"
   ]
  }
 ],
 "metadata": {
  "kernelspec": {
   "display_name": "Python 3 (ipykernel)",
   "language": "python",
   "name": "python3"
  },
  "language_info": {
   "codemirror_mode": {
    "name": "ipython",
    "version": 3
   },
   "file_extension": ".py",
   "mimetype": "text/x-python",
   "name": "python",
   "nbconvert_exporter": "python",
   "pygments_lexer": "ipython3",
   "version": "3.9.18"
  }
 },
 "nbformat": 4,
 "nbformat_minor": 5
}
