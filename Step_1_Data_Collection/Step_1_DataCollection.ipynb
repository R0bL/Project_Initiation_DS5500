{
 "cells": [
  {
   "cell_type": "code",
   "execution_count": 1,
   "id": "c2f866de-e6dc-4e4c-9c74-7e060e97665f",
   "metadata": {},
   "outputs": [],
   "source": [
    "import requests\n",
    "import pandas as pd\n",
    "from tqdm import tqdm\n",
    "import os\n",
    "import time\n",
    "from requests.utils import quote"
   ]
  },
  {
   "cell_type": "markdown",
   "id": "04c2eda6-d5a2-420b-9c0a-0447a215b26b",
   "metadata": {},
   "source": [
    "## Step 1: Data Collection\n",
    "\n",
    "### Step 1A: Get list of US Equities held by Norewegian Wealth Fund from 2013-2023\n",
    "\n",
    "\n",
    "A link to the API can be found here: [Norges Bank Investment Management API](https://www.nbim.no/en/responsible-investment/voting/our-voting-records/api-access-to-our-voting/) \n",
    "\n",
    "\n",
    "I used this code to get all companies listed in their database: "
   ]
  },
  {
   "cell_type": "code",
   "execution_count": null,
   "id": "71d17ae6-338b-49cc-ab80-2f35d84b5302",
   "metadata": {},
   "outputs": [],
   "source": [
    "api_key = \" Insert Your API Key Here\" \n",
    "\n",
    "def fetch_company_details(api_key, company_name):\n",
    "    detail_url = f\"https://vd.a.nbim.no/v1/query/company/{requests.utils.quote(company_name)}\"\n",
    "    headers = {\"x-api-key\": api_key}\n",
    "    response = requests.get(detail_url, headers=headers)\n",
    "    if response.status_code == 200:\n",
    "        return response.json()\n",
    "    elif response.status_code == 429:\n",
    "        print(\"Rate limit exceeded. Sleeping...\")\n",
    "        time.sleep(900)  # Sleep time might need adjustment\n",
    "        return fetch_company_details(api_key, company_name)\n",
    "    else:\n",
    "        print(f\"Failed to fetch details for company {company_name}: {response.status_code}\")\n",
    "        return {}\n",
    "\n",
    "\n",
    "def build_companies_dataframe(api_key, companies_list, save_path):\n",
    "    detailed_companies = []\n",
    "    start_from_index = get_last_processed_index(companies_list, save_path)\n",
    "\n",
    "    for i, company in enumerate(tqdm(companies_list[start_from_index:], desc=\"Fetching company details\"), start=start_from_index):\n",
    "        company_name = company['n']\n",
    "        company_details = fetch_company_details(api_key, company_name)\n",
    "        if 'companies' in company_details:\n",
    "            for detail in company_details['companies']:\n",
    "                detailed_companies.append({\n",
    "                    'Company Name': company_name,\n",
    "                    'Ticker': detail.get('Ticker', 'N/A'),\n",
    "                    'Country': detail.get('country', 'N/A')\n",
    "                })\n",
    "        if (i + 1 - start_from_index) % 5 == 0 or i == len(companies_list) - 1:\n",
    "            pd.DataFrame(detailed_companies).to_csv(save_path, mode='a', header=not os.path.exists(save_path), index=False)\n",
    "            detailed_companies = []  # Reset to avoid re-saving data\n",
    "\n",
    "        time.sleep(1)  # Consider dynamic adjustment based on API's rate limiting response\n",
    "\n",
    "    if os.path.exists(save_path):\n",
    "        return pd.read_csv(save_path)\n",
    "    else:\n",
    "        return pd.DataFrame()"
   ]
  },
  {
   "cell_type": "markdown",
   "id": "ea909505-4e2f-41db-8720-40a1cd8f4842",
   "metadata": {},
   "source": [
    "#### If API times out, restart at index: "
   ]
  },
  {
   "cell_type": "code",
   "execution_count": 2,
   "id": "17ee4200-7772-4623-8a5c-86a57b2252d0",
   "metadata": {},
   "outputs": [],
   "source": [
    "def get_last_processed_index(companies_list, save_path):\n",
    "    try:\n",
    "        df = pd.read_csv(save_path)\n",
    "        # Correct column name to 'Company Name'\n",
    "        last_processed_company = df.iloc[-1]['11 88 0 Solutions AG']\n",
    "        for index, company in enumerate(companies_list):\n",
    "            if company['n'] == last_processed_company:\n",
    "                return index + 1  # Resume from the next company\n",
    "    except (pd.errors.EmptyDataError, FileNotFoundError):\n",
    "        print(\"CSV file is empty or does not exist.\")\n",
    "    return 0"
   ]
  },
  {
   "cell_type": "markdown",
   "id": "5d7d9bf5-de81-4a5a-af1b-477880d3e95c",
   "metadata": {},
   "source": [
    "### Step 1B: Cross refrence data with yfinance\n",
    "\n",
    "The data being evaluated are SEC filings of 1260 Equities held by the Norwegain Wealth Fund, downloaded from the SEC's Electronic Data Gathering, Analysis and Retrieval (EDGAR) website. \n",
    "\n",
    "Cross refrenced data pulled with y_finance [yfinance](https://pypi.org/project/yfinance/) - Norwegain Wealth Fund Database did not have the correct industry tags: \n"
   ]
  },
  {
   "cell_type": "code",
   "execution_count": null,
   "id": "adbe28e3-611b-47f6-b57c-a737d19833d4",
   "metadata": {},
   "outputs": [],
   "source": [
    "\n",
    "```\n",
    "import pandas as pd\n",
    "import yfinance as yf\n",
    "from tqdm import tqdm\n",
    "\n",
    "# Assuming 'test' is your dataframe and it already exists\n",
    "# Make sure it is either the full dataframe or a copy, to avoid SettingWithCopyWarning:\n",
    "# test = df.head().copy()\n",
    "\n",
    "# Enable tqdm for pandas apply\n",
    "tqdm.pandas()\n",
    "\n",
    "# Function to fetch sector for a ticker\n",
    "def fetch_sector(ticker):\n",
    "    try:\n",
    "        ticker_data = yf.Ticker(ticker)\n",
    "        return ticker_data.info.get('sector', \"N/A\")\n",
    "    except Exception as e:\n",
    "        return \"Error\"\n",
    "\n",
    "# Apply the function to your dataframe to create a new 'Sector' column\n",
    "# Using progress_apply instead of apply to show the progress bar\n",
    "df['Sector'] = df['Ticker'].progress_apply(fetch_sector)\n",
    "\n",
    "# Display the updated dataframe\n",
    "df.head()\n",
    "```\n"
   ]
  }
 ],
 "metadata": {
  "kernelspec": {
   "display_name": "Python 3 (ipykernel)",
   "language": "python",
   "name": "python3"
  },
  "language_info": {
   "codemirror_mode": {
    "name": "ipython",
    "version": 3
   },
   "file_extension": ".py",
   "mimetype": "text/x-python",
   "name": "python",
   "nbconvert_exporter": "python",
   "pygments_lexer": "ipython3",
   "version": "3.9.18"
  }
 },
 "nbformat": 4,
 "nbformat_minor": 5
}
